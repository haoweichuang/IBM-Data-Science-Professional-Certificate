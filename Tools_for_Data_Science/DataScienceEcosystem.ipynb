{
 "cells": [
  {
   "cell_type": "markdown",
   "id": "cbf04297-c505-4351-81f7-08ca23bb2a6d",
   "metadata": {},
   "source": [
    "# Data Science Tools and Ecosystem"
   ]
  },
  {
   "cell_type": "markdown",
   "id": "fd6f993b-718a-485c-a25a-62fe87af7418",
   "metadata": {},
   "source": [
    "In this notebook, Data Science Tools and Ecosystem are summarized."
   ]
  },
  {
   "cell_type": "markdown",
   "id": "6fadf177-91f3-4bfe-8184-9e9e9c3d5d34",
   "metadata": {},
   "source": [
    "**Some of the popular languages that Data Scientists use are:**\n",
    "1. python\n",
    "2. SQL\n",
    "3. R"
   ]
  },
  {
   "cell_type": "markdown",
   "id": "42f98f7d-f6f3-4a0c-8f17-3efe8e044e0a",
   "metadata": {},
   "source": [
    "**Some of the commonly used libraries used by Data Scientists include:**\n",
    "    \n",
    " 1. TensorFlow. \n",
    " 2. SciPy. \n",
    " 3. NumPy. \n",
    " 4. Pandas. \n",
    " 5. Pytorch"
   ]
  },
  {
   "cell_type": "markdown",
   "id": "5b147ff5-c068-4cff-92e4-ba21c6d0456c",
   "metadata": {},
   "source": [
    "**Data Science Tools**\n",
    "|Data Science Tools|\n",
    "|-|\n",
    "|Jupyter Notebook|\n",
    "|RStudio|\n",
    "|Apache Spark|"
   ]
  },
  {
   "cell_type": "markdown",
   "id": "c7f3a924-f70b-4ee7-a60f-44c87456f1c5",
   "metadata": {},
   "source": [
    "### Below are a few examples of evaluating arithmetic expressions in Python\n"
   ]
  },
  {
   "cell_type": "code",
   "execution_count": 5,
   "id": "f400d46f-ba6e-4eef-b16a-356410689bfc",
   "metadata": {},
   "outputs": [
    {
     "data": {
      "text/plain": [
       "17"
      ]
     },
     "execution_count": 5,
     "metadata": {},
     "output_type": "execute_result"
    }
   ],
   "source": [
    "# This a simple arithmetic expression to mutiply then add integers\n",
    "(3*4)+5"
   ]
  },
  {
   "cell_type": "code",
   "execution_count": 6,
   "id": "e5b592ca-f66e-4c2e-8597-9a600afb2016",
   "metadata": {},
   "outputs": [
    {
     "name": "stdout",
     "output_type": "stream",
     "text": [
      "33.333333333333336\n"
     ]
    }
   ],
   "source": [
    "# This will convert 200 minutes to hours by diving by 60\n",
    "print(200 / 6)"
   ]
  },
  {
   "cell_type": "markdown",
   "id": "42a050d6-48c3-4d17-b3b1-78db9cf32721",
   "metadata": {},
   "source": [
    "## Author \n",
    "name : Chuang, Hao-Wei"
   ]
  },
  {
   "cell_type": "code",
   "execution_count": null,
   "id": "cbd34e0a-bd6d-4b2e-9079-dbbcac6c6adb",
   "metadata": {},
   "outputs": [],
   "source": []
  }
 ],
 "metadata": {
  "kernelspec": {
   "display_name": "Python 3 (ipykernel)",
   "language": "python",
   "name": "python3"
  },
  "language_info": {
   "codemirror_mode": {
    "name": "ipython",
    "version": 3
   },
   "file_extension": ".py",
   "mimetype": "text/x-python",
   "name": "python",
   "nbconvert_exporter": "python",
   "pygments_lexer": "ipython3",
   "version": "3.11.9"
  }
 },
 "nbformat": 4,
 "nbformat_minor": 5
}
